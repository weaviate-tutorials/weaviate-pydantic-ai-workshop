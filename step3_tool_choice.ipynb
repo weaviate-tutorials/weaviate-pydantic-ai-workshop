{
 "cells": [
  {
   "cell_type": "markdown",
   "metadata": {},
   "source": [
    "# Step 3: Tool Selection\n",
    "\n",
    "## The Key Insight\n",
    "\n",
    "**Agents use tools when needed, not reflexively.**\n",
    "\n",
    "This is what separates **\"agentic\" systems** from **rigid workflows**.\n",
    "\n",
    "### Workflow vs. Agent\n",
    "\n",
    "| Workflow | Agent |\n",
    "|----------|-------|\n",
    "| Fixed sequence of steps | Dynamic decision-making |\n",
    "| Always executes all tools | Uses tools only when needed |\n",
    "| Predictable, rigid | Adaptive, flexible |\n",
    "| Good for: Known processes | Good for: Varied user needs / complex tasks |\n",
    "\n",
    "## What We'll Demonstrate\n",
    "\n",
    "We'll give the agent **two tools**\n",
    "- get_weather_for_city\n",
    "- get_trending_news_for_city\n",
    "\n",
    "and test with differet prompts."
   ]
  },
  {
   "cell_type": "markdown",
   "metadata": {},
   "source": [
    "## Setup\n",
    "\n",
    "Same as Step 2, but now we're importing two different tool functions."
   ]
  },
  {
   "cell_type": "code",
   "execution_count": 1,
   "metadata": {},
   "outputs": [],
   "source": [
    "# Note: This (nest_asyncio) is only required in Jupyter notebooks (https://ai.pydantic.dev/troubleshooting/)\n",
    "import nest_asyncio\n",
    "\n",
    "nest_asyncio.apply()"
   ]
  },
  {
   "cell_type": "code",
   "execution_count": 2,
   "metadata": {},
   "outputs": [
    {
     "data": {
      "text/plain": [
       "True"
      ]
     },
     "execution_count": 2,
     "metadata": {},
     "output_type": "execute_result"
    }
   ],
   "source": [
    "from pydantic_ai import Agent, RunContext\n",
    "from pydantic import BaseModel\n",
    "from tools import get_weather_for_city, get_trending_news_for_city\n",
    "import dotenv\n",
    "\n",
    "dotenv.load_dotenv(override=True)"
   ]
  },
  {
   "cell_type": "markdown",
   "metadata": {},
   "source": [
    "## Define User Context\n",
    "\n",
    "Same user model as before."
   ]
  },
  {
   "cell_type": "code",
   "execution_count": 3,
   "metadata": {},
   "outputs": [],
   "source": [
    "class UserInfo(BaseModel):\n",
    "    name: str\n",
    "    city: str"
   ]
  },
  {
   "cell_type": "markdown",
   "metadata": {},
   "source": [
    "## Create the Agent\n",
    "\n",
    "Same agent setup as Step 2."
   ]
  },
  {
   "cell_type": "code",
   "execution_count": 4,
   "metadata": {},
   "outputs": [],
   "source": [
    "basic_agent = Agent(\n",
    "    model=\"anthropic:claude-3-5-haiku-latest\",\n",
    "    deps_type=UserInfo,\n",
    ")\n",
    "\n",
    "\n",
    "@basic_agent.system_prompt\n",
    "def set_system_prompt(ctx: RunContext[UserInfo]) -> str:\n",
    "    return f\"\"\"\n",
    "    You are a helpful assistant.\n",
    "    Answer questions as best you can, using any tools as needed.\n",
    "    The user's name is {ctx.deps.name} and they are in {ctx.deps.city}.\n",
    "    \"\"\""
   ]
  },
  {
   "cell_type": "markdown",
   "metadata": {},
   "source": [
    "## Register Two Tools\n",
    "\n",
    "Now we'll give the agent **two different tools**. Both are available, but the agent will intelligently choose:\n",
    "- Which one to use\n",
    "- Whether to use any at all\n",
    "\n",
    "**Key point:** The docstrings tell the agent what each tool does. Make them clear and specific!"
   ]
  },
  {
   "cell_type": "code",
   "execution_count": 5,
   "metadata": {},
   "outputs": [],
   "source": [
    "@basic_agent.tool\n",
    "def tool_get_weather(ctx: RunContext[UserInfo]) -> str:\n",
    "    \"\"\"Check today's weather in a given location\"\"\"\n",
    "    print(\">> TOOL USED: Getting weather\")\n",
    "    return get_weather_for_city(ctx.deps.city)"
   ]
  },
  {
   "cell_type": "code",
   "execution_count": 6,
   "metadata": {},
   "outputs": [],
   "source": [
    "@basic_agent.tool\n",
    "def tool_get_trending_news(ctx: RunContext[UserInfo]) -> str:\n",
    "    \"\"\"Get today's trending news item in a given location\"\"\"\n",
    "    print(\">> TOOL USED: Getting trending news\")\n",
    "    return get_trending_news_for_city(ctx.deps.city)"
   ]
  },
  {
   "cell_type": "markdown",
   "metadata": {},
   "source": [
    "## Set Up Our Test User\n",
    "\n",
    "We'll use the same user for all three tests to make comparison easier."
   ]
  },
  {
   "cell_type": "code",
   "execution_count": 7,
   "metadata": {},
   "outputs": [],
   "source": [
    "user_info = UserInfo(name=\"JP\", city=\"Edinburgh\")"
   ]
  },
  {
   "cell_type": "markdown",
   "metadata": {},
   "source": [
    "## Test 1: Weather Question\n",
    "\n",
    "What tool will the agent use?"
   ]
  },
  {
   "cell_type": "code",
   "execution_count": 8,
   "metadata": {},
   "outputs": [
    {
     "name": "stdout",
     "output_type": "stream",
     "text": [
      "============================================================\n",
      "TEST 1: Weather Question\n",
      "PROMPT: What's the weather like today where I am?\n",
      "============================================================\n",
      "\n",
      ">> TOOL USED: Getting weather\n",
      "\n",
      "Agent response:\n",
      "It looks like it's a typical Scottish day in Edinburgh - rainy and cool. The temperature is around 6°C, so you might want to grab a waterproof jacket and an umbrella if you're heading out today. It's a good day to stay warm and perhaps enjoy some indoor activities or a cozy café.\n",
      "\n",
      "Is there anything else you'd like to know about today's weather or plans?\n",
      "\n"
     ]
    }
   ],
   "source": [
    "prompt = \"What's the weather like today where I am?\"\n",
    "\n",
    "print(f\"{'=' * 60}\")\n",
    "print(f\"TEST 1: Weather Question\")\n",
    "print(f\"PROMPT: {prompt}\")\n",
    "print(f\"{'=' * 60}\\n\")\n",
    "\n",
    "response = basic_agent.run_sync(user_prompt=prompt, deps=user_info)\n",
    "\n",
    "print(f\"\\nAgent response:\")\n",
    "print(response.output)\n",
    "print()"
   ]
  },
  {
   "cell_type": "markdown",
   "metadata": {},
   "source": [
    "### Analysis\n",
    "\n",
    "Did you see \"TOOL USED: Getting weather\"? ✅\n",
    "\n",
    "The agent:\n",
    "1. Read the question\n",
    "2. Identified it needs current weather data\n",
    "3. Chose the weather tool (not the news tool!)\n",
    "4. Used the result to answer"
   ]
  },
  {
   "cell_type": "markdown",
   "metadata": {},
   "source": [
    "## Test 2: News Question\n",
    "\n",
    "What tool will the agent use?\n",
    "\n",
    "Note this is the same user and the same agent. The only difference is the question."
   ]
  },
  {
   "cell_type": "code",
   "execution_count": 9,
   "metadata": {},
   "outputs": [
    {
     "name": "stdout",
     "output_type": "stream",
     "text": [
      "============================================================\n",
      "TEST 2: News Question\n",
      "PROMPT: What's the trending news item where I am today?\n",
      "============================================================\n",
      "\n",
      ">> TOOL USED: Getting trending news\n",
      "\n",
      "Agent response:\n",
      "Well, that's an unusual piece of news! According to the trending news tool, today in Edinburgh there's a story about a surprisingly large mongoose that was seen chasing a startled park manager. It sounds like quite an unexpected and amusing incident. Would you like to hear more about this or discuss anything else?\n",
      "\n"
     ]
    }
   ],
   "source": [
    "prompt = \"What's the trending news item where I am today?\"\n",
    "\n",
    "print(f\"{'=' * 60}\")\n",
    "print(f\"TEST 2: News Question\")\n",
    "print(f\"PROMPT: {prompt}\")\n",
    "print(f\"{'=' * 60}\\n\")\n",
    "\n",
    "response = basic_agent.run_sync(user_prompt=prompt, deps=user_info)\n",
    "\n",
    "print(f\"\\nAgent response:\")\n",
    "print(response.output)\n",
    "print()"
   ]
  },
  {
   "cell_type": "markdown",
   "metadata": {},
   "source": [
    "### Analysis\n",
    "\n",
    "Did you see \"TOOL USED: Getting trending news\"? ✅\n",
    "\n",
    "The agent:\n",
    "1. Read the question\n",
    "2. Identified it needs trending news\n",
    "3. Chose the NEWS tool (not weather!)\n",
    "4. Ignored the weather tool completely\n",
    "\n",
    "**This is smart tool selection!**"
   ]
  },
  {
   "cell_type": "markdown",
   "metadata": {},
   "source": [
    "## Test 3: Geography Question\n",
    "\n",
    "What about this question?"
   ]
  },
  {
   "cell_type": "code",
   "execution_count": 10,
   "metadata": {},
   "outputs": [
    {
     "name": "stdout",
     "output_type": "stream",
     "text": [
      "============================================================\n",
      "TEST 3: Geography Question\n",
      "PROMPT: What country is my city in? Has it always been the case?\n",
      "============================================================\n",
      "\n",
      "\n",
      "Agent response:\n",
      "Edinburgh is a city located in Scotland, which is part of the United Kingdom. \n",
      "\n",
      "Historically, Scotland was an independent kingdom for many centuries before the Acts of Union in 1707, which united the Kingdom of Scotland and the Kingdom of England to form the Kingdom of Great Britain. So no, it has not always been part of the United Kingdom as we know it today.\n",
      "\n",
      "Before 1707, Scotland was a separate sovereign state with its own monarchy, government, and international relations. The union with England was primarily driven by economic and political considerations, including Scotland's financial difficulties after the unsuccessful Darien Scheme (a failed colonial expedition) and the desire for a stable succession to the throne.\n",
      "\n",
      "Today, Scotland is one of the four constituent countries of the United Kingdom, along with England, Wales, and Northern Ireland. It has a significant degree of devolved governance through the Scottish Parliament, which was established in 1999, giving Scotland more control over domestic matters while remaining part of the UK.\n",
      "\n",
      "Would you like to know more about Edinburgh or Scotland's history?\n",
      "\n"
     ]
    }
   ],
   "source": [
    "prompt = \"What country is my city in? Has it always been the case?\"\n",
    "\n",
    "print(f\"{'=' * 60}\")\n",
    "print(f\"TEST 3: Geography Question\")\n",
    "print(f\"PROMPT: {prompt}\")\n",
    "print(f\"{'=' * 60}\\n\")\n",
    "\n",
    "response = basic_agent.run_sync(user_prompt=prompt, deps=user_info)\n",
    "\n",
    "print(f\"\\nAgent response:\")\n",
    "print(response.output)\n",
    "print()"
   ]
  },
  {
   "cell_type": "markdown",
   "metadata": {},
   "source": [
    "### Analysis\n",
    "\n",
    "Did you see any \"TOOL USED\" messages? (You should not see any 😉)\n",
    "\n",
    "The agent:\n",
    "1. Read the question\n",
    "2. Realized it's about geography/history\n",
    "3. Checked its own knowledge\n",
    "4. Answered directly WITHOUT calling any tools!\n",
    "\n",
    "**This is the key insight:** Good agents don't just use tools reflexively. They use them **when needed**."
   ]
  },
  {
   "cell_type": "markdown",
   "metadata": {},
   "source": [
    "## Key Takeaways\n",
    "\n",
    "### Agentic Behavior = Conditional Tool Use\n",
    "\n",
    "| System Type | Tool Usage |\n",
    "|-------------|------------|\n",
    "| **Workflow** | Always calls all tools in fixed sequence |\n",
    "| **Agent** | Decides which tools (if any) based on the question |\n",
    "\n",
    "### Why This Matters\n",
    "\n",
    "✅ **LLM / Agents can replace complex logic on what tool / function to call**\n",
    "\n",
    "### How the Agent Decides\n",
    "\n",
    "The LLM looks at:\n",
    "1. **The user's question** - What information do they need?\n",
    "2. **Available tools** - What can I do? (reads docstrings)\n",
    "3. **Its own knowledge** - Do I already know this?\n",
    "4. **Decision** - Use tool X, tool Y, or no tool at all\n",
    "\n",
    "This reasoning happens **automatically** - you just define the tools and let the agent decide!"
   ]
  },
  {
   "cell_type": "markdown",
   "metadata": {},
   "source": [
    "## When to Use Workflows vs. Agents\n",
    "\n",
    "### Use Workflows When:\n",
    "- ✅ Steps are always required (e.g., data validation pipeline)\n",
    "- ✅ Input and output are well-defined\n",
    "- ✅ Example: Processing payment transactions\n",
    "\n",
    "### Use Agents When:\n",
    "- ✅ User intent varies widely\n",
    "- ✅ Tools should be used conditionally\n",
    "- ✅ Natural language interaction\n",
    "- ✅ Example: Customer support chatbot, research assistant\n",
    "\n",
    "**Sometimes you need both!** An agent might trigger a workflow for specific tasks."
   ]
  },
  {
   "cell_type": "markdown",
   "metadata": {},
   "source": [
    "## What's Next?\n",
    "\n",
    "Steps 5-6 show more complex examples, using data stored in a Weaviate database. Here are the tools we'll use:"
   ]
  },
  {
   "cell_type": "code",
   "execution_count": 12,
   "metadata": {},
   "outputs": [
    {
     "name": "stdout",
     "output_type": "stream",
     "text": [
      "Returned results:\n",
      "weaviate/manage-collections/collection-aliases.mdx\n",
      "weaviate/tutorials/collection-aliases.mdx\n",
      "weaviate/manage-collections/collection-operations.mdx\n",
      "weaviate/config-refs/collections.mdx\n",
      "weaviate/starter-guides/managing-collections/index.mdx\n",
      "\n",
      "Summary of search results:\n",
      "weaviate/manage-collections/collection-aliases.mdx\n",
      "A guide to creating, managing, and using collection aliases in Weaviate, which allow alternative names for collections and enable zero-downtime migrations.\n",
      "weaviate/tutorials/collection-aliases.mdx\n",
      "A comprehensive tutorial demonstrating how to use Weaviate collection aliases to perform zero-downtime migrations, enabling seamless schema updates and collection version management without service interruption.\n",
      "weaviate/manage-collections/collection-operations.mdx\n",
      "This document provides a comprehensive guide to managing Weaviate collections, including creating, reading, updating, and deleting collections with code examples across multiple programming languages.\n",
      "weaviate/config-refs/collections.mdx\n",
      "Comprehensive reference for defining Weaviate collections, including parameters for collection configuration, properties, vectorization, indexing, replication, and multi-tenancy.\n",
      "weaviate/starter-guides/managing-collections/index.mdx\n",
      "A comprehensive tutorial explaining how to define and configure collection schemas in Weaviate, covering key aspects like properties, vectorizers, modules, multi-tenancy, and indexing settings.\n"
     ]
    }
   ],
   "source": [
    "from tools import search_weaviate_docs, fetch_weaviate_docs_page\n",
    "\n",
    "query = \"collection aliases in Weaviate\"\n",
    "\n",
    "r = search_weaviate_docs(query)\n",
    "\n",
    "print(\"\\nSummary of search results:\")\n",
    "for i in r:\n",
    "    print(i[\"path\"])\n",
    "    print(i[\"summary\"])"
   ]
  },
  {
   "cell_type": "code",
   "execution_count": 13,
   "metadata": {},
   "outputs": [
    {
     "name": "stdout",
     "output_type": "stream",
     "text": [
      "\n",
      "Full page contents:\n",
      "Page length:  17558 characters\n",
      "---\n",
      "title: Collection aliases\n",
      "sidebar_label: Collection aliases\n",
      "image: og/docs/howto.jpg\n",
      "---\n",
      "\n",
      "import...\n",
      "\n",
      "\n",
      "Page length:  21582 characters\n",
      "---\n",
      "title: Zero-downtime collection migration with aliases\n",
      "description: Learn how to migrate Weaviat...\n",
      "\n",
      "\n",
      "Page length:  52841 characters\n",
      "---\n",
      "title: Basic collection operations\n",
      "sidebar_label: Collection operations (CRUD)\n",
      "image: og/docs/ho...\n",
      "\n",
      "\n",
      "Page length:  91745 characters\n",
      "---\n",
      "title: Collection definition\n",
      "description: Reference for Weaviate collection parameters.\n",
      "---\n",
      "\n",
      "imp...\n",
      "\n",
      "\n",
      "Page length:  36490 characters\n",
      "---\n",
      "title: Collection definitions (schemas)\n",
      "description: Begin with collection definition setup in W...\n",
      "\n",
      "\n"
     ]
    }
   ],
   "source": [
    "print(\"\\nFull page contents:\")\n",
    "for i in r:\n",
    "    page = fetch_weaviate_docs_page(i[\"path\"])\n",
    "    print(\"Page length: \", len(page), \"characters\")\n",
    "    print(page[:100] + \"...\")\n",
    "    print(\"\\n\")"
   ]
  },
  {
   "cell_type": "markdown",
   "metadata": {},
   "source": [
    "---\n",
    "\n",
    "**⏸️ PAUSE: Questions before we move to Weaviate integration?**"
   ]
  }
 ],
 "metadata": {
  "kernelspec": {
   "display_name": ".venv",
   "language": "python",
   "name": "python3"
  },
  "language_info": {
   "codemirror_mode": {
    "name": "ipython",
    "version": 3
   },
   "file_extension": ".py",
   "mimetype": "text/x-python",
   "name": "python",
   "nbconvert_exporter": "python",
   "pygments_lexer": "ipython3",
   "version": "3.10.16"
  }
 },
 "nbformat": 4,
 "nbformat_minor": 4
}
