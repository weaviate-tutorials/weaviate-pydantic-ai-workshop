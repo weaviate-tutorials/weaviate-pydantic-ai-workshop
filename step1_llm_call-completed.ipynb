{
 "cells": [
  {
   "cell_type": "markdown",
   "metadata": {},
   "source": [
    "# Step 1: Your First LLM Call\n",
    "\n",
    "## LLM use\n",
    "\n",
    "We can send prompts and get responses from LLMs through an API. "
   ]
  },
  {
   "cell_type": "markdown",
   "metadata": {},
   "source": [
    "**Reference:** [Pydantic AI Direct API](https://ai.pydantic.dev/direct/)"
   ]
  },
  {
   "cell_type": "markdown",
   "metadata": {},
   "source": [
    "## Setup\n",
    "\n",
    "First, let's import what we need and load our API keys from the `.env` file."
   ]
  },
  {
   "cell_type": "code",
   "execution_count": 1,
   "metadata": {},
   "outputs": [],
   "source": [
    "# Note: This (nest_asyncio) is only required in Jupyter notebooks (https://ai.pydantic.dev/troubleshooting/)\n",
    "import nest_asyncio\n",
    "\n",
    "nest_asyncio.apply()"
   ]
  },
  {
   "cell_type": "code",
   "execution_count": 2,
   "metadata": {},
   "outputs": [
    {
     "data": {
      "text/plain": [
       "True"
      ]
     },
     "execution_count": 2,
     "metadata": {},
     "output_type": "execute_result"
    }
   ],
   "source": [
    "from pydantic_ai import ModelRequest\n",
    "from pydantic_ai.direct import model_request_sync\n",
    "import dotenv\n",
    "\n",
    "dotenv.load_dotenv(override=True)"
   ]
  },
  {
   "cell_type": "markdown",
   "metadata": {},
   "source": [
    "## Making Your First LLM Call\n",
    "\n",
    "Let's ask the LLM about Edinburgh weather in October.\n",
    "\n",
    "**Notice:** The LLM has general knowledge about typical October weather, but not today's actual forecast!"
   ]
  },
  {
   "cell_type": "code",
   "execution_count": 3,
   "metadata": {},
   "outputs": [
    {
     "name": "stdout",
     "output_type": "stream",
     "text": [
      "In October, Edinburgh typically experiences cool and changeable autumn weather. Average temperatures range from about 7°C to 13°C (45°F to 55°F). It's often cloudy and can be quite rainy, with precipitation being common. You can expect some mild days but also chilly and windy conditions. Warm layers and a waterproof jacket are recommended. The weather can change quickly, so it's best to be prepared for various conditions.\n"
     ]
    }
   ],
   "source": [
    "prompt = \"What's the weather like in October in Edinburgh?\"\n",
    "\n",
    "model_response = model_request_sync(\n",
    "    model=\"anthropic:claude-3-5-haiku-latest\",\n",
    "    messages=[ModelRequest.user_text_prompt(prompt)],\n",
    ")\n",
    "\n",
    "print(model_response.parts[0].content)"
   ]
  },
  {
   "cell_type": "markdown",
   "metadata": {},
   "source": [
    "### What Just Happened?\n",
    "\n",
    "1. We sent a text prompt to Claude (Anthropic's LLM)\n",
    "2. The model used its training data to generate a response\n",
    "3. We got back information about typical October weather in Edinburgh"
   ]
  },
  {
   "cell_type": "markdown",
   "metadata": {},
   "source": [
    "## Try It Yourself: Ask About Today\n",
    "\n",
    "Now let's try asking about today's weather. Modify the cell below to ask about today's weather.\n",
    "\n",
    "**Question to think about:** Why can't the LLM give you accurate real-time weather data?"
   ]
  },
  {
   "cell_type": "code",
   "execution_count": 4,
   "metadata": {},
   "outputs": [
    {
     "name": "stdout",
     "output_type": "stream",
     "text": [
      "In October, Edinburgh experiences autumn weather characterized by:\n",
      "\n",
      "1. Temperature:\n",
      "- Average daytime temperatures range from 7°C to 13°C (45°F to 55°F)\n",
      "- Nighttime temperatures can drop to around 5°C to 8°C (41°F to 46°F)\n",
      "\n",
      "2. Precipitation:\n",
      "- Relatively high rainfall, with an average of 10-12 rainy days per month\n",
      "- Total monthly rainfall around 70-80mm\n",
      "\n",
      "3. General conditions:\n",
      "- Often cloudy and overcast\n",
      "- Increasing likelihood of wind and occasional storms\n",
      "- Daylight hours start to decrease\n",
      "- Possibility of early morning frost towards the end of the month\n",
      "\n",
      "4. Clothing recommendations:\n",
      "- Layers are essential\n",
      "- Warm jacket\n",
      "- Waterproof coat\n",
      "- Umbrella\n",
      "- Warm sweaters/jumpers\n",
      "\n",
      "Overall, October in Edinburgh is cool, damp, and typically autumnal, with unpredictable weather that can change quickly.\n"
     ]
    }
   ],
   "source": [
    "# Try asking about today's weather\n",
    "# TODO: ⬇️ Set the prompt below to ask about today's weather\n",
    "# BEGIN_SOLUTION\n",
    "prompt = \"What's the weather like in October in Edinburgh?\"\n",
    "# END_SOLUTION\n",
    "\n",
    "model_response = model_request_sync(\n",
    "    \"anthropic:claude-3-5-haiku-latest\", [ModelRequest.user_text_prompt(prompt)]\n",
    ")\n",
    "\n",
    "print(model_response.parts[0].content)"
   ]
  },
  {
   "cell_type": "markdown",
   "metadata": {},
   "source": [
    "You can try asking about different cities or different questions. Some ideas:\n",
    "- \"What's the weather like in Tokyo in summer?\"\n",
    "- \"What should I pack for a trip to Paris in December?\"\n",
    "- \"What's the current temperature in New York?\"\n",
    "\n",
    "Notice which questions the LLM can answer well (general knowledge) and which it struggles with (real-time data)."
   ]
  },
  {
   "cell_type": "markdown",
   "metadata": {},
   "source": [
    "### What LLMs CAN Do\n",
    "✅ Answer questions using their training data  \n",
    "✅ Provide general knowledge and typical patterns  \n",
    "✅ Reason about information they've seen during training  \n",
    "\n",
    "### What LLMs CANNOT Do (Without Help)\n",
    "❌ Access real-time information  \n",
    "❌ Make API calls to external services  \n",
    "❌ Know anything that happened after their training cutoff  \n",
    "\n",
    "### What's Next?\n",
    "\n",
    "In **Step 2**, we'll solve this limitation by giving the LLM **tools**."
   ]
  },
  {
   "cell_type": "markdown",
   "metadata": {},
   "source": [
    "---\n",
    "\n",
    "**⏸️ PAUSE: Questions before we continue to Step 2?**"
   ]
  }
 ],
 "metadata": {
  "kernelspec": {
   "display_name": ".venv",
   "language": "python",
   "name": "python3"
  },
  "language_info": {
   "codemirror_mode": {
    "name": "ipython",
    "version": 3
   },
   "file_extension": ".py",
   "mimetype": "text/x-python",
   "name": "python",
   "nbconvert_exporter": "python",
   "pygments_lexer": "ipython3",
   "version": "3.10.16"
  }
 },
 "nbformat": 4,
 "nbformat_minor": 4
}
